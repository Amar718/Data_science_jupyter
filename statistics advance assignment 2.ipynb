{
 "cells": [
  {
   "cell_type": "code",
   "execution_count": null,
   "metadata": {},
   "outputs": [],
   "source": [
    "\n",
    "\n",
    "Q1: Probability Mass Function (PMF) and Probability Density Function (PDF) are used to describe the probability distribution of a random variable. PMF is used for discrete random variables while PDF is used for continuous random variables. PMF gives the probability that a discrete random variable takes on a specific value. For example, if we toss a coin, the probability of getting heads is 0.5 and the probability of getting tails is also 0.5. So, the PMF of this experiment is given by p(x=H)=0.5 and p(x=T)=0.5. PDF gives the probability density at a specific point in the continuous distribution. For example, if we measure the height of people in a population, we can use PDF to describe the distribution of heights.\n",
    "\n",
    "Q2: Cumulative Density Function (CDF) is used to describe the probability that a random variable takes on a value less than or equal to a specific value. CDF is defined as F(x) = P(X <= x). For example, if we toss a coin twice and count the number of heads, then X can take on values 0, 1 or 2. The CDF of X is given by F(0) = P(X <= 0) = 0.25, F(1) = P(X <= 1) = 0.75 and F(2) = P(X <= 2) = 1.\n",
    "\n",
    "Q3: Normal distribution can be used as a model in many situations such as in natural phenomena like height, weight, blood pressure etc., in social sciences like IQ scores, income etc., and in engineering like tolerances of manufactured products etc. The normal distribution has two parameters: mean (μ) and standard deviation (σ). The mean determines the center of the distribution while the standard deviation determines the spread of the distribution.\n",
    "\n",
    "Q4: Normal Distribution is important because it is widely used in many fields such as science, engineering, social sciences etc. It is also important because it has many desirable properties such as being symmetric and having a bell-shaped curve which makes it easy to work with mathematically. Some real-life examples of Normal Distribution are height and weight of people in a population, IQ scores etc.\n",
    "\n",
    "Q5: Bernoulli Distribution is used to model experiments with two possible outcomes such as flipping a coin or rolling a die. It has only one parameter p which represents the probability of success. For example, if we toss a coin and define success as getting heads then p=0.5. Bernoulli Distribution can be thought of as a special case of Binomial Distribution where n=1.\n",
    "\n",
    "Q6: We are given that mean (μ) = 50 and standard deviation (σ) = 10. We want to find P(X > 60). Since we are assuming that X follows normal distribution, we can use z-score formula to find this probability.\n",
    "\n",
    "z = (X - μ)/σ\n",
    "\n",
    "z = (60 - 50)/10\n",
    "\n",
    "z = 1\n",
    "\n",
    "Now we need to find P(Z > 1). We can use standard normal table or calculator to find this probability which is approximately equal to 0.1587.\n",
    "\n",
    "Q7: Uniform Distribution is used when all outcomes in an experiment are equally likely. For example, if we roll a fair die then each outcome has an equal chance of occurring so we can use Uniform Distribution to describe this experiment.\n",
    "\n",
    "Q8: z score is used to standardize normal distribution so that we can compare different normal distributions with different means and standard deviations on the same scale. z score tells us how many standard deviations away from the mean a particular observation is.\n",
    "\n",
    "Q9: Central Limit Theorem states that if we take repeated samples from any population with mean μ and finite variance σ^2 then as sample size n increases, the sampling distribution of sample means approaches normal distribution with mean μ and standard deviation σ/sqrt(n). This theorem is significant because it allows us to make inferences about population means using sample means even when we don't know anything about population distribution.\n",
    "\n",
    "Q10: Assumptions of Central Limit Theorem are:\n",
    "- Sample size should be large enough (n >= 30).\n",
    "- Samples should be independent.\n",
    "- Population should have finite variance.\n",
    "\n"
   ]
  }
 ],
 "metadata": {
  "language_info": {
   "name": "python"
  },
  "orig_nbformat": 4
 },
 "nbformat": 4,
 "nbformat_minor": 2
}
