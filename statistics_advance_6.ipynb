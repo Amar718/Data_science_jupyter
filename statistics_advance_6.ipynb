{
 "cells": [
  {
   "cell_type": "code",
   "execution_count": null,
   "metadata": {},
   "outputs": [],
   "source": [
    "\n",
    "\n",
    "Q1. ANOVA requires the following assumptions¹²:\n",
    "- The dependent variable is normally distributed in each group.\n",
    "- The groups have equal variances (homogeneity of variance).\n",
    "- The observations are independent and randomly sampled.\n",
    "\n",
    "Some examples of violations that could impact the validity of the results are:\n",
    "- Skewed or non-normal distributions in one or more groups.\n",
    "- Unequal variances across groups (heterogeneity of variance).\n",
    "- Non-random sampling or correlated observations within or between groups.\n",
    "\n",
    "Q2. The three types of ANOVA are¹³:\n",
    "- One-way ANOVA: used to compare the means of two or more groups based on one independent variable (factor).\n",
    "- Two-way ANOVA: used to compare the means of two or more groups based on two independent variables (factors), and to test for main effects and interaction effects.\n",
    "- Repeated measures ANOVA: used to compare the means of two or more groups based on repeated measurements of the same dependent variable (such as before and after an intervention).\n",
    "\n",
    "Q3. The partitioning of variance in ANOVA is the process of dividing the total variation in the data into different sources or components, such as between groups and within groups¹². It is important to understand this concept because it allows us to test whether the variation between groups is significantly larger than the variation within groups, which indicates that there are differences in the group means.\n",
    "\n",
    "Q4. To calculate the total sum of squares (SST), explained sum of squares (SSE), and residual sum of squares (SSR) in a one-way ANOVA using Python, you can use the following steps³:\n",
    "- Import the necessary libraries, such as pandas, numpy, and scipy.stats.\n",
    "- Load or create your data as a pandas dataframe, with one column for the dependent variable and one column for the independent variable (factor).\n",
    "- Calculate the grand mean, which is the mean of all observations in the data.\n",
    "- Calculate the group means, which are the means of each group in the data.\n",
    "- Calculate SST as the sum of squared deviations of each observation from the grand mean.\n",
    "- Calculate SSE as the sum of squared deviations of each group mean from the grand mean, multiplied by the number of observations in each group.\n",
    "- Calculate SSR as SST minus SSE, or as the sum of squared deviations of each observation from its group mean.\n",
    "\n",
    "Q5. To calculate the main effects and interaction effects in a two-way ANOVA using Python, you can use\n",
    "the following steps³:\n",
    "- Import the necessary libraries, such as pandas, numpy, and scipy.stats.\n",
    "- Load or create your data as a pandas dataframe, with one column for the dependent variable and two columns for the independent variables (factors).\n",
    "- Calculate the grand mean, which is the mean of all observations in the data.\n",
    "- Calculate the marginal means, which are the means of each level of each factor in the data.\n",
    "- Calculate SST as the sum of squared deviations of each observation from the grand mean.\n",
    "\n",
    "\n",
    "- Q6 is about a one-way ANOVA with an F-statistic of 5.23 and a p-value of 0.02.\n",
    "- A one-way ANOVA is a statistical test that compares the means of three or more groups on one factor or variable.\n",
    "- An F-statistic is a ratio of the variance between groups to the variance within groups. A higher F-statistic indicates more differences between groups.\n",
    "- A p-value is the probability of obtaining an F-statistic as extreme or more extreme than the observed one, assuming the null hypothesis is true. The null hypothesis is that there are no differences between the group means.\n",
    "- A common significance level for p-values is 0.05, which means that there is a 5% chance of rejecting the null hypothesis when it is true.\n",
    "- In Q6, the p-value of 0.02 is less than 0.05, which means that the F-statistic of 5.23 is statistically significant. This means that we can reject the null hypothesis and conclude that there are some differences between the group means.\n",
    "- However, a one-way ANOVA does not tell us which groups are different from each other, or how large the differences are. To answer these questions, we need to perform a post-hoc test, such as Tukey's HSD or Bonferroni correction, to compare the pairwise differences between groups and adjust for multiple comparisons.\n",
    "\n",
    "\n"
   ]
  }
 ],
 "metadata": {
  "language_info": {
   "name": "python"
  },
  "orig_nbformat": 4
 },
 "nbformat": 4,
 "nbformat_minor": 2
}
