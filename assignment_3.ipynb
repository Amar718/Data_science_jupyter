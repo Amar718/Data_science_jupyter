{
 "cells": [
  {
   "cell_type": "code",
   "execution_count": null,
   "metadata": {},
   "outputs": [],
   "source": [
    "\n",
    "\n",
    "1. Mean sales for Region A = (10 + 15 + 12 + 8 + 14) / 5 = **11.8**. Mean sales for Region B = (18 + 20 + 16 + 22 + 25) / 5 = **20.2**.\n",
    "2. The mode of the survey responses is **4**.\n",
    "3. Median salary for Department A = **5750**. Median salary for Department B = **5500**.\n",
    "4. The range of the stock prices is **1.2**.\n",
    "5. The t-test result is **t=2.02**, which is greater than the critical value of **t=2.306** at a significance level of 0.05, indicating that there is not a significant difference in the mean scores between the two groups.\n",
    "6. The correlation coefficient between advertising expenditure and sales is **0.96**.\n",
    "7. The standard deviation of the heights is **8.17**.\n",
    "8. The linear regression equation is y = 5.57x + 4.86, where x is employee tenure and y is job satisfaction.\n",
    "9. The ANOVA result is F=1.25, which is less than the critical value of F=4.26 at a significance level of 0.05, indicating that there is not a significant difference in the mean recovery times between the two medications.\n",
    "10. The 75th percentile of the feedback ratings is **9**.\n",
    "11. The hypothesis test result is t=1.67, which is less than the critical value of t=2.306 at a significance level of 0.05, indicating that there is not enough evidence to reject the null hypothesis that the mean weight does not differ significantly from 10 grams.\n",
    "12. The chi-square test result is χ²=3, which is less than the critical value of χ²=9.488 at a significance level of 0.05, indicating that there is not a significant difference in the click-through rates between the two designs.\n",
    "13. The 95% confidence interval for the population mean satisfaction score is (6.28, 8.72).\n",
    "14. The simple linear regression equation is y = -0.5x + 17, where x is temperature and y is performance.\n",
    "15. The Mann-Whitney U test result is U=7, which is greater than the critical value of U=1 at a significance level of 0.05, indicating that there is a significant difference in the median preferences between the two groups.\n",
    "16. The interquartile range (IQR) of the ages is **20**.\n",
    "17. The Kruskal-Wallis test result is H=3, which is less than the critical value of H=5.991 at a significance level of 0.05, indicating that there is not a significant difference in the median accuracy scores between the algorithms.\n",
    "18. The simple linear regression equation is y = -5x + 150, where x is price and y is sales.\n",
    "19. The standard error of the mean satisfaction score is **0.34**.\n",
    "20. The multiple regression equation is y = -1x₁ + 2x₂ - 5, where x₁ is advertising expenditure and x₂ is temperature.\n",
    "\n"
   ]
  }
 ],
 "metadata": {
  "language_info": {
   "name": "python"
  },
  "orig_nbformat": 4
 },
 "nbformat": 4,
 "nbformat_minor": 2
}
