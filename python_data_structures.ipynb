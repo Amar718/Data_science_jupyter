{
 "cells": [
  {
   "cell_type": "code",
   "execution_count": null,
   "metadata": {},
   "outputs": [],
   "source": [
    "Q1. How do you comment code in Python? What are the different types of comments?\n",
    "A1. In Python, you can use the hash symbol (#) to add a single-line comment. You can also use triple quotes (''' or \"\"\") to add multi-line comments. There are two types of comments in Python: single-line comments and multi-line comments.\n",
    "\n",
    "Q2. What are variables in Python? How do you declare and assign values to variables?\n",
    "A2. In Python, a variable is a named location used to store data in memory. You can declare a variable by assigning a value to it using the equal sign (=). For example, x = 5 declares a variable named x and assigns it the value 5.\n",
    "\n",
    "Q3. How do you convert one data type to another in Python?\n",
    "A3. In Python, you can convert one data type to another using type conversion functions such as int(), float(), str(), etc.\n",
    "\n",
    "Q4. How do you write and execute a Python script from the command line?\n",
    "A4. To write a Python script from the command line, you can use any text editor such as Notepad or Vim to create a file with the .py extension. To execute the script from the command line, navigate to the directory where the script is saved and type python filename.py.\n",
    "\n",
    "Q5. Given a list my_list = [1, 2, 3, 4, 5], write the code to slice the list and obtain the sub-list [2, 3].\n",
    "A5. You can slice a list in Python using square brackets ([]). To obtain the sub-list [2, 3] from my_list = [1, 2, 3, 4, 5], you can use my_list[1:3].\n",
    "\n",
    "Q6. What is a complex number in mathematics, and how is it represented in Python?\n",
    "A6. A complex number is a number that comprises both a real part and an imaginary part. In Python, you can represent complex numbers using the j or J suffix after a number (e.g., 3+4j).\n",
    "\n",
    "Q7. What is the correct way to declare a variable named age and assign the value 25 to it?\n",
    "A7. The correct way to declare a variable named age and assign the value 25 to it is age = 25.\n",
    "\n",
    "Q8. Declare a variable named price and assign the value 9.99 to it. What data type does this variable belong to?\n",
    "A8. The variable price belongs to the float data type.\n",
    "\n",
    "Q9. Create a variable named name and assign your full name to it as a string. How would you print the value of this variable?\n",
    "A9. You can create a variable named name and assign your full name to it as follows:\n",
    "name = \"John Doe\"\n",
    "To print the value of this variable, you can use the print() function as follows:\n",
    "print(name)\n",
    "\n",
    "Q10. Given the string \"Hello, World!\", extract the substring \"World\".\n",
    "A10. You can extract the substring \"World\" from the string \"Hello, World!\" using string slicing as follows:\n",
    "string = \"Hello, World!\"\n",
    "substring = string[7:12]\n",
    "\n",
    "Q11. Create a variable named \"is_student\" and assign it a boolean value indicating whether you are currently a student or not.\n",
    "A11. You can create a variable named \"is_student\" and assign it a boolean value indicating whether you are currently a student or not as follows:\n",
    "is_student = True # if you are currently a student\n",
    "is_student = False # if you are not currently a student\n"
   ]
  }
 ],
 "metadata": {
  "language_info": {
   "name": "python"
  },
  "orig_nbformat": 4
 },
 "nbformat": 4,
 "nbformat_minor": 2
}
