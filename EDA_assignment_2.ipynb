{
 "cells": [
  {
   "cell_type": "code",
   "execution_count": null,
   "metadata": {},
   "outputs": [],
   "source": [
    "\n",
    "\n",
    "Q1. The dimensions of the dataset depend on which dataset you are using. For example, the **Airline Ticket Price dataset**¹ has 1000 rows and 9 columns, while the **Flight Price Prediction dataset**⁴ has 300261 rows and 11 columns. You can load the dataset using pandas and use the `.shape` attribute to examine its dimensions.\n",
    "\n",
    "Q2. The distribution of flight prices in the dataset can be visualized using a histogram. You can use matplotlib or seaborn to create a histogram. For example, using seaborn, you can use the following code:\n",
    "\n",
    "```python\n",
    "import seaborn as sns\n",
    "sns.histplot(data=df, x=\"Price\")\n",
    "```\n",
    "\n",
    "where `df` is the name of your dataframe and `\"Price\"` is the name of the column containing the flight prices.\n",
    "\n",
    "Q3. The range of prices in the dataset can be found using the `.min()` and `.max()` methods on the price column. For example, using pandas, you can use the following code:\n",
    "\n",
    "```python\n",
    "import pandas as pd\n",
    "df = pd.read_csv(\"flight_price_dataset.csv\") # replace with your file name\n",
    "min_price = df[\"Price\"].min()\n",
    "max_price = df[\"Price\"].max()\n",
    "print(f\"The minimum price is {min_price} and the maximum price is {max_price}\")\n",
    "```\n",
    "\n",
    "Q4. The price of flights by airline can be compared using a boxplot. You can use matplotlib or seaborn to create a boxplot. For example, using seaborn, you can use the following code:\n",
    "\n",
    "```python\n",
    "import seaborn as sns\n",
    "sns.boxplot(data=df, x=\"Airline\", y=\"Price\")\n",
    "```\n",
    "\n",
    "where `df` is the name of your dataframe, `\"Airline\"` is the name of the column containing the airline names, and `\"Price\"` is the name of the column containing the flight prices.\n",
    "\n"
   ]
  }
 ],
 "metadata": {
  "language_info": {
   "name": "python"
  },
  "orig_nbformat": 4
 },
 "nbformat": 4,
 "nbformat_minor": 2
}
