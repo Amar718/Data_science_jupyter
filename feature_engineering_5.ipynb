{
 "cells": [
  {
   "cell_type": "code",
   "execution_count": null,
   "metadata": {},
   "outputs": [],
   "source": [
    "\n",
    "\n",
    "Q2. Explain how Target Guided Ordinal Encoding works and provide an example of when you might use it in a machine learning project.\n",
    "\n",
    "I will then reply with something like:\n",
    "\n",
    "Target Guided Ordinal Encoding is a technique used to encode categorical variables for machine learning models. This encoding technique is particularly useful when the target variable is ordinal, meaning that it has a natural order, such as low, medium, and high¹.\n",
    "\n",
    "Target Guided Ordinal Encoding involves replacing the categories in the categorical variable with ordinal numbers that are based on the relationship between the category and the target variable¹². For example, if we have a categorical variable \"City\" and a target variable \"House Price\", we can calculate the mean house price for each city and assign an ordinal number to each city based on the mean house price. The city with the lowest mean house price will get the lowest ordinal number, and the city with the highest mean house price will get the highest ordinal number.\n",
    "\n",
    "This encoding technique can help capture the information from both the categorical variable and the target variable in a single feature. It can also reduce the dimensionality of the data by avoiding creating multiple dummy variables for each category³. However, this encoding technique may introduce some noise or bias if the relationship between the category and the target variable is not linear or monotonic⁴.\n",
    "\n",
    "You might use Target Guided Ordinal Encoding in a machine learning project when:\n",
    "\n",
    "- You have a categorical variable with a high cardinality (many unique categories).\n",
    "- You have an ordinal target variable or a continuous target variable that has a linear or monotonic relationship with the categorical variable.\n",
    "- You want to reduce the dimensionality of the data and avoid creating many dummy variables.\n",
    "\n"
   ]
  }
 ],
 "metadata": {
  "language_info": {
   "name": "python"
  },
  "orig_nbformat": 4
 },
 "nbformat": 4,
 "nbformat_minor": 2
}
