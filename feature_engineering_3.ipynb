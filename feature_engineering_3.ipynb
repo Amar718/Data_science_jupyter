{
 "cells": [
  {
   "cell_type": "code",
   "execution_count": null,
   "metadata": {},
   "outputs": [],
   "source": [
    "\n",
    "Q1. **Min-Max scaling** is a normalization technique that enables us to scale data in a dataset to a specific range using each feature’s minimum and maximum value¹. It is used in data preprocessing to reduce the effect of outliers and make the data more uniform⁴. For example, if we have a dataset with values ranging from 0 to 100, we can use Min-Max scaling to transform them to a range of 0 to 1 by applying the following formula:\n",
    "\n",
    "$$x_{scaled} = \\frac{x - x_{min}}{x_{max} - x_{min}}$$\n",
    "\n",
    "where $x$ is the original value, $x_{min}$ and $x_{max}$ are the minimum and maximum values in the dataset, and $x_{scaled}$ is the scaled value³.\n",
    "\n",
    "Q2. **Unit Vector technique** is another normalization technique that scales each feature vector to have a unit norm (length of 1)³. It is different from Min-Max scaling in that it does not depend on the minimum and maximum values of the features, but on their direction and magnitude⁴. For example, if we have a feature vector $(3, 4)$, we can use Unit Vector technique to transform it to a unit vector by dividing each element by its norm:\n",
    "\n",
    "$$x_{norm} = \\frac{x}{||x||}$$\n",
    "\n",
    "where $x$ is the original vector, $||x||$ is its norm (length), and $x_{norm}$ is the normalized vector³. In this case, the norm is $\\sqrt{3^2 + 4^2} = 5$, so the normalized vector is $(0.6, 0.8)$.\n",
    "\n",
    "Q3. **PCA (Principal Component Analysis)** is a dimensionality reduction technique that transforms a set of correlated features into a set of uncorrelated features called principal components⁵. It is used in dimensionality reduction to reduce the complexity and noise in the data, and to capture the most important information (variance) in the data. For example, if we have a dataset with two features, height and weight, we can use PCA to find a new axis that best explains the variation in the data. This axis is called the first principal component, and it is orthogonal to another axis called the second principal component. By projecting the data onto these axes, we can reduce the dimensionality from two to one without losing much information.\n",
    "\n",
    "Q4. **Feature Extraction** is a process of transforming or combining existing features into new features that are more relevant or useful for a specific task. **PCA** can be used for feature extraction by creating new features that are linear combinations of the original features. The relationship between PCA and feature extraction is that PCA is one of the methods for feature extraction, but not all feature extraction methods are PCA. For example, if we have a dataset with three features, x, y, and z, we can use PCA to create new features, PC1 and PC2, that are linear combinations of x, y, and z:\n",
    "\n",
    "$$PC1 = ax + by + cz$$\n",
    "$$PC2 = dx + ey + fz$$\n",
    "\n",
    "where $a$, $b$, $c$, $d$, $e$, and $f$ are coefficients determined by PCA.\n",
    "\n",
    "Q5. To use Min-Max scaling to preprocess the data for a food delivery service recommendation system, we need to first identify the minimum and maximum values for each feature in the dataset. For example, if the price ranges from 50 to 500 rupees, the rating ranges from 1 to 5 stars, and the delivery time ranges from 10 to 60 minutes, we can use these values as the minimum and maximum values for Min-Max scaling. Then, we can apply the Min-Max scaling formula to each feature value to transform them to a range of 0 to 1. For example, if a restaurant has a price of 300 rupees, a rating of 4 stars, and a delivery time of 30 minutes, we can scale these values as follows:\n",
    "\n",
    "$$price_{scaled} = \\frac{300 - 50}{500 - 50} = 0.56$$\n",
    "$$rating_{scaled} = \\frac{4 - 1}{5 - 1} = 0.75$$\n",
    "$$deliverytime_{scaled} = \\frac{30 - 10}{60 - 10} = 0.4$$\n",
    "\n",
    "By doing this for all the restaurants in the dataset, we can obtain scaled values that are more comparable and suitable for\n",
    "\n"
   ]
  }
 ],
 "metadata": {
  "language_info": {
   "name": "python"
  },
  "orig_nbformat": 4
 },
 "nbformat": 4,
 "nbformat_minor": 2
}
