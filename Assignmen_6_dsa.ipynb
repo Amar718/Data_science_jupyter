{
 "cells": [
  {
   "cell_type": "code",
   "execution_count": null,
   "metadata": {},
   "outputs": [],
   "source": [
    "1.A data ingestion pipeline is a process that extracts data from various sources such as databases, APIs, and streaming platforms and loads it into a destination or staging ar\n",
    "ea. It is essential for organizing and moving data from various sources to a data lake solution¹. \n",
    "\n",
    "2.To design a data ingestion pipeline, you can use tools such as Kafka, Hive, or Spark. These tools can handle streaming data, batch processing, and data transformation. \n",
    "You can also use a managed Spark service or a connector software to simplify the pipeline creation and maintenance¹²⁴⁵. \n",
    "\n"
   ]
  }
 ],
 "metadata": {
  "language_info": {
   "name": "python"
  },
  "orig_nbformat": 4
 },
 "nbformat": 4,
 "nbformat_minor": 2
}
