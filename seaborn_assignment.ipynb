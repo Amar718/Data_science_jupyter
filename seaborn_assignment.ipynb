{
 "cells": [
  {
   "cell_type": "code",
   "execution_count": null,
   "metadata": {},
   "outputs": [],
   "source": [
    "\n",
    "1. Five plots that we can plot using the Seaborn library are:\n",
    "    - Line Plot: It is used to visualize the relationship between two variables on different axes.\n",
    "    - Scatter Plot: It is used to visualize the relationship between two variables on the same axes.\n",
    "    - Bar Plot: It is used to visualize the distribution of categorical data.\n",
    "    - Histogram: It is used to visualize the distribution of continuous data.\n",
    "    - Heatmap: It is used to visualize the correlation between variables.\n",
    "\n",
    "2. Here's how you can load the \"fmri\" dataset using the load_dataset function of seaborn and plot a line plot using x = \"timepoint\" and y = \"signal\" for different events and regions:\n",
    "```python\n",
    "import seaborn as sns\n",
    "\n",
    "fmri = sns.load_dataset(\"fmri\")\n",
    "sns.lineplot(x=\"timepoint\", y=\"signal\", hue=\"event\", style=\"region\", data=fmri)\n",
    "```\n",
    "\n",
    "3. Here's how you can load the \"titanic\" dataset using the load_dataset function of seaborn and plot two box plots using x = 'pclass', y = 'age' and y = 'fare':\n",
    "```python\n",
    "import seaborn as sns\n",
    "\n",
    "titanic = sns.load_dataset(\"titanic\")\n",
    "sns.boxplot(x=\"pclass\", y=\"age\", data=titanic)\n",
    "sns.boxplot(x=\"pclass\", y=\"fare\", data=titanic)\n",
    "```\n",
    "\n",
    "4. Here's how you can use the \"diamonds\" dataset from seaborn to plot a histogram for the 'price' column. Use the hue parameter for the 'cut' column of the diamonds dataset:\n",
    "```python\n",
    "import seaborn as sns\n",
    "\n",
    "diamonds = sns.load_dataset(\"diamonds\")\n",
    "sns.histplot(data=diamonds, x=\"price\", hue=\"cut\")\n",
    "```\n",
    "\n",
    "5. Here's how you can use the \"iris\" dataset from seaborn to plot a pair plot. Use the hue parameter for the \"species\" column of the iris dataset:\n",
    "```python\n",
    "import seaborn as sns\n",
    "\n",
    "iris = sns.load_dataset(\"iris\")\n",
    "sns.pairplot(data=iris, hue=\"species\")\n",
    "```\n",
    "\n",
    "6. Here's how you can use the \"flights\" dataset from seaborn to plot a heatmap:\n",
    "```python\n",
    "import seaborn as sns\n",
    "\n",
    "flights = sns.load_dataset(\"flights\")\n",
    "flights = flights.pivot(\"month\", \"year\", \"passengers\")\n",
    "sns.heatmap(flights, annot=True, fmt=\"d\")\n",
    "```"
   ]
  }
 ],
 "metadata": {
  "language_info": {
   "name": "python"
  },
  "orig_nbformat": 4
 },
 "nbformat": 4,
 "nbformat_minor": 2
}
