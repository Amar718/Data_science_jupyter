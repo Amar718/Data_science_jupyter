{
 "cells": [
  {
   "cell_type": "code",
   "execution_count": null,
   "metadata": {},
   "outputs": [],
   "source": [
    "Q1. Yes, there is a difference in the data type of variables list_ and array_list. The data type of variable list_ is 'list' whereas the data type of variable array_list is 'numpy.ndarray'. Here's the code to print the data types of both the variables:\n",
    "```python\n",
    "print(type(list_))\n",
    "print(type(array_list))\n",
    "```\n",
    "\n",
    "Q2. Here's the code to print the data type of each and every element of both the variables list_ and array_list:\n",
    "```python\n",
    "for i in list_:\n",
    "    print(type(i))\n",
    "    \n",
    "for i in array_list:\n",
    "    print(type(i))\n",
    "```\n",
    "\n",
    "Q3. Yes, there will be a difference in the data type of the elements present in both the variables, list_ and array_list. The data type of elements present in variable list_ is 'str' whereas the data type of elements present in variable array_list will be 'int64'. Here's the code to print the data types of each and every element present in both the variables, list_ and array_list:\n",
    "```python\n",
    "for i in list_:\n",
    "    print(type(i))\n",
    "    \n",
    "for i in array_list:\n",
    "    print(type(i))\n",
    "```\n",
    "\n",
    "Q4. Here's the code to find the following characteristics of variable, num_array:\n",
    "(i) shape\n",
    "(ii) size\n",
    "```python\n",
    "print(num_array.shape)\n",
    "print(num_array.size)\n",
    "```\n",
    "\n",
    "Q5. Here's the code to create numpy array of 3*3 matrix containing zeros only, using a numpy array creation function:\n",
    "```python\n",
    "import numpy as np\n",
    "\n",
    "zeros_array = np.zeros((3,3))\n",
    "print(zeros_array)\n",
    "```\n",
    "\n",
    "Q6. Here's how you can create an identity matrix of shape (5,5) using numpy functions:\n",
    "```python\n",
    "import numpy as np\n",
    "\n",
    "identity_matrix = np.identity(5)\n",
    "print(identity_matrix)\n",
    "```"
   ]
  }
 ],
 "metadata": {
  "language_info": {
   "name": "python"
  },
  "orig_nbformat": 4
 },
 "nbformat": 4,
 "nbformat_minor": 2
}
