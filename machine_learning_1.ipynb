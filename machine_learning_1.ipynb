{
 "cells": [
  {
   "cell_type": "code",
   "execution_count": null,
   "metadata": {},
   "outputs": [],
   "source": [
    "\n",
    "\n",
    "\n",
    "A) Artificial Intelligence\n",
    "B) Machine Learning\n",
    "C) Deep Learning\n",
    "\n",
    "Artificial Intelligence (AI) is the field of computer science that aims to create machines or systems that can perform tasks that normally require human intelligence, such as reasoning, decision making, problem solving, natural language processing, computer vision, etc.\n",
    "\n",
    "An example of AI is a chatbot that can understand and respond to natural language queries from users.\n",
    "\n",
    "Machine Learning (ML) is a subset of AI that focuses on creating systems that can learn from data and improve their performance without explicit programming or human intervention.\n",
    "\n",
    "An example of ML is a spam filter that can learn from previous emails and classify new emails as spam or not spam.\n",
    "\n",
    "Deep Learning (DL) is a subset of ML that uses artificial neural networks to model complex patterns and relationships in data. Neural networks are composed of layers of interconnected nodes that can process and transmit information.\n",
    "\n",
    "An example of DL is a face recognition system that can learn from millions of images and identify faces in new images.\n",
    "\n"
   ]
  }
 ],
 "metadata": {
  "language_info": {
   "name": "python"
  },
  "orig_nbformat": 4
 },
 "nbformat": 4,
 "nbformat_minor": 2
}
