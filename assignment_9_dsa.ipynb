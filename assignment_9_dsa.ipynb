{
 "cells": [
  {
   "cell_type": "code",
   "execution_count": null,
   "metadata": {},
   "outputs": [],
   "source": [
    "\n",
    "1.A neuron is a basic unit of the nervous system that processes and transmits information. It consists of three main parts: the cell body (soma), dendrites, and axon. A neural network, on the other hand, is a collection of interconnected neurons that can learn and perform complex computations. It is inspired by the structure and function of the human brain and is used in various applications such as image recognition, natural language processing, and speech recognition.\n",
    "\n",
    "2.\n"
   ]
  }
 ],
 "metadata": {
  "language_info": {
   "name": "python"
  },
  "orig_nbformat": 4
 },
 "nbformat": 4,
 "nbformat_minor": 2
}
