{
 "cells": [
  {
   "cell_type": "code",
   "execution_count": null,
   "metadata": {},
   "outputs": [],
   "source": [
    "MongoDB is a document-oriented NoSQL database that stores data in JSON-like documents with dynamic schemas. It is a non-relational database that supports JSON querying and handles large unstructured datasets. In contrast, SQL databases store data in traditional row-column structures and are more suited for smaller and predefined datasets1. MongoDB is preferred over SQL databases in scenarios where there is a need for high scalability, high availability, and high performance1.\n",
    "\n",
    "Q2. The features of MongoDB include:\n",
    "\n",
    "Document-oriented\n",
    "High performance\n",
    "High availability"
   ]
  }
 ],
 "metadata": {
  "language_info": {
   "name": "python"
  },
  "orig_nbformat": 4
 },
 "nbformat": 4,
 "nbformat_minor": 2
}
