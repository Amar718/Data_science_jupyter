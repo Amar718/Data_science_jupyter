{
 "cells": [
  {
   "cell_type": "code",
   "execution_count": null,
   "metadata": {},
   "outputs": [],
   "source": [
    "Q1. **GET** and **POST** are two HTTP request methods used to retrieve or send data to a server. The **GET** method requests a representation of the specified resource. Requests using GET should only retrieve data. The **POST** method submits an entity to the specified resource, often causing a change in state or side effects on the server¹³⁴⁵.\n",
    "\n",
    "Q2. **request** is used in Flask to access the incoming data from the request, which includes the mimetype, referrer, IP address, raw data, HTTP method, and headers, among other things⁶⁷.\n",
    "\n",
    "Q3. **redirect()** is used in Flask to redirect the user to another target location with specified status code⁹ [^10^] ¹¹¹³¹⁴.\n",
    "\n",
    "Q4. **Templates** are files that contain static data as well as placeholders for dynamic data. In Flask, templates are used to render dynamic HTML pages. The **render_template()** function is used to render templates⁶.\n",
    "\n",
    "Q5. Here's an example of a simple API:\n",
    "\n",
    "```python\n",
    "from flask import Flask\n",
    "\n",
    "app = Flask(__name__)\n",
    "\n",
    "@app.route('/')\n",
    "def hello_world():\n",
    "    return 'Hello World!'\n",
    "\n",
    "if __name__ == '__main__':\n",
    "    app.run()\n",
    "```\n"
   ]
  }
 ],
 "metadata": {
  "language_info": {
   "name": "python"
  },
  "orig_nbformat": 4
 },
 "nbformat": 4,
 "nbformat_minor": 2
}
