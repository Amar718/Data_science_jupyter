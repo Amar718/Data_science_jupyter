{
 "cells": [
  {
   "cell_type": "code",
   "execution_count": null,
   "metadata": {},
   "outputs": [],
   "source": [
    "Multithreading is a technique that allows a program to perform multiple tasks concurrently. In Python, multithreading can be achieved using the `threading` module. The following functions are available in the `threading` module:\n",
    "\n",
    "- `active_count()`: This function returns the number of currently active Thread objects. This value is equal to the length of the list that the function `enumerate()` returns.\n",
    "- `current_thread()`: This function returns a list of all Thread objects in the caller's thread control.\n",
    "- `enumerate()`: This function returns a list of all Thread objects that are currently active.\n",
    "- `run()`: This method is called when a thread starts executing.\n",
    "- `start()`: This method starts a thread by calling the run method.\n",
    "- `join()`: This method waits for the thread to complete its execution.\n",
    "- `is_alive()`: This method returns True if the thread is alive.\n",
    "\n",
    "Here's an example Python program that creates two threads. Thread one prints the list of squares and thread two prints the list of cubes:\n",
    "\n",
    "```python\n",
    "import threading\n",
    "\n",
    "def print_squares():\n",
    "    for i in range(10):\n",
    "        print(i*i)\n",
    "\n",
    "def print_cubes():\n",
    "    for i in range(10):\n",
    "        print(i*i*i)\n",
    "\n",
    "t1 = threading.Thread(target=print_squares)\n",
    "t2 = threading.Thread(target=print_cubes)\n",
    "\n",
    "t1.start()\n",
    "t2.start()\n",
    "\n",
    "t1.join()\n",
    "t2.join()\n",
    "```\n",
    "\n",
    "Advantages of multithreading include:\n",
    "- Increased responsiveness and interactivity\n",
    "- Improved performance on multi-core processors\n",
    "- Simplified program structure\n",
    "\n",
    "Disadvantages of multithreading include:\n",
    "- Increased complexity\n",
    "- Difficulty in debugging\n",
    "- Increased memory usage\n",
    "\n",
    "Deadlocks occur when two or more threads are blocked forever, waiting for each other to release resources. Race conditions occur when two or more threads access shared data and try to modify it at the same time. These can be avoided by using locks and semaphores.\n"
   ]
  }
 ],
 "metadata": {
  "language_info": {
   "name": "python"
  },
  "orig_nbformat": 4
 },
 "nbformat": 4,
 "nbformat_minor": 2
}
