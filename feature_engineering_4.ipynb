{
 "cells": [
  {
   "cell_type": "code",
   "execution_count": null,
   "metadata": {},
   "outputs": [],
   "source": [
    "\n",
    "Q1. Data encoding is a process of transforming data from one format to another, usually to make it more suitable for analysis, storage, transmission, or processing. Data encoding can be useful in data science for various reasons, such as:\n",
    "\n",
    "- Reducing the size of data and improving its compression\n",
    "- Enhancing the security and privacy of data\n",
    "- Handling missing or invalid data\n",
    "- Converting categorical data into numerical data\n",
    "- Reducing the dimensionality and sparsity of data\n",
    "- Improving the performance and accuracy of machine learning models\n",
    "\n",
    "Q2. Nominal encoding is a type of data encoding that assigns a unique integer value to each category of a categorical variable. Nominal encoding is used when the data is nominal, meaning that the categories have no inherent order or hierarchy. For example, if we have a variable called `color` with three possible values: `red`, `green`, and `blue`, we can use nominal encoding to map them to integers: `red = 1`, `green = 2`, and `blue = 3`. A real-world scenario where we can use nominal encoding is when we want to encode the names of countries, languages, or products.\n",
    "\n",
    "Q3. Nominal encoding is preferred over one-hot encoding when:\n",
    "\n",
    "- The number of categories is large and one-hot encoding would create too many new columns and increase the dimensionality and sparsity of the data\n",
    "- The categories are not mutually exclusive and one-hot encoding would create ambiguity and redundancy in the data\n",
    "- The categories have some inherent meaning or relationship that can be captured by the integer values\n",
    "\n",
    "A practical example where nominal encoding is preferred over one-hot encoding is when we want to encode the zip codes of customers. Zip codes are nominal data that have a large number of possible values and some geographical meaning. One-hot encoding would create too many dummy variables and lose the information about the proximity of zip codes.\n",
    "\n",
    "Q4. If we have a dataset containing categorical data with 5 unique values, we can use either nominal encoding or one-hot encoding to transform this data into a format suitable for machine learning algorithms. The choice depends on the nature and purpose of the data. If the data is nominal and we want to reduce the dimensionality and sparsity of the data, we can use nominal encoding. If the data is ordinal or we want to preserve the information about the distinctiveness of each category, we can use one-hot encoding.\n",
    "\n",
    "Q5. If we have a dataset with 1000 rows and 5 columns, two of which are categorical, and we use nominal encoding to transform the categorical data, we would create two new columns. This is because nominal encoding replaces each categorical column with a single numerical column that contains the integer values corresponding to each category. The calculation is as follows:\n",
    "\n",
    "Original number of columns = 5\n",
    "Number of categorical columns = 2\n",
    "Number of numerical columns = 5 - 2 = 3\n",
    "Number of new columns created by nominal encoding = 2\n",
    "Total number of columns after nominal encoding = 3 + 2 = 5\n",
    "\n",
    "Q6. If we have a dataset containing information about different types of animals, including their species, habitat, and diet, we can use one-hot encoding to transform the categorical data into a format suitable for machine learning algorithms. This is because one-hot encoding creates binary variables that indicate the presence or absence of each category in each row. This way, we can preserve the information about the distinctiveness and diversity of each animal type without imposing any order or hierarchy on them.\n",
    "\n",
    "Q7. If we have a project that involves predicting customer churn for a telecommunications company, and we have a dataset with 5 features, including the customer's gender, age, contract type, monthly charges, and tenure, we can use different encoding techniques to transform the categorical data into numerical data depending on their nature. Here are some possible steps:\n",
    "\n",
    "- For gender, which is a binary variable with two possible values (male or female), we can use label encoding or binary encoding to map them to 0 or 1.\n",
    "- For contract type, which is a nominal variable with three possible values (month-to-month, one year, or two year), we can use one-hot encoding to create three dummy variables that indicate which contract type each customer has.\n",
    "- For age and tenure, which are numerical variables already, we do not need any encoding.\n",
    "- For monthly charges, which is a continuous numerical variable, we can use standardization or normalization to scale it to a common range.\n",
    "\n"
   ]
  }
 ],
 "metadata": {
  "language_info": {
   "name": "python"
  },
  "orig_nbformat": 4
 },
 "nbformat": 4,
 "nbformat_minor": 2
}
