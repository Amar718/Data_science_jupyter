{
 "cells": [
  {
   "cell_type": "code",
   "execution_count": null,
   "metadata": {},
   "outputs": [],
   "source": [
    "Q1. A database is an organized collection of data stored and accessed electronically. SQL (Structured Query Language) databases are table-based, while NoSQL databases can be document-oriented, key-value pairs, or graph structures. SQL has a fixed-defined schema, while NoSQL databases are more flexible ¹².\n",
    "\n",
    "Q2. DDL (Data Definition Language) is used to define the database schema. CREATE is used to create a new table or database, DROP is used to delete an entire table or database, ALTER is used to modify the structure of an existing table or database, and TRUNCATE is used to delete all data from a table ¹.\n",
    "\n",
    "Q3. DML (Data Manipulation Language) is used to manipulate data within the database. INSERT is used to add new data into a table, UPDATE is used to modify existing data within a table, and DELETE is used to remove data from a table ¹.\n",
    "\n",
    "Q4. DQL (Data Query Language) is used to retrieve data from the database. SELECT is used to retrieve data from one or more tables ¹.\n",
    "\n",
    "Q5. A Primary Key is a column or set of columns that uniquely identifies each row in a table. A Foreign Key is a column or set of columns that refers to the Primary Key of another table ⁵⁶⁷.\n",
    "\n",
    "Q6. Here's an example Python code that connects MySQL with Python using the mysql-connector-python module:\n",
    "\n",
    "```python\n",
    "import mysql.connector\n",
    "\n",
    "mydb = mysql.connector.connect(\n",
    "  host=\"localhost\",\n",
    "  user=\"yourusername\",\n",
    "  password=\"yourpassword\",\n",
    "  database=\"mydatabase\"\n",
    ")\n",
    "\n",
    "mycursor = mydb.cursor()\n",
    "\n",
    "mycursor.execute(\"SELECT * FROM customers\")\n",
    "\n",
    "myresult = mycursor.fetchall()\n",
    "\n",
    "for x in myresult:\n",
    "  print(x)\n",
    "```\n",
    "\n",
    "The `cursor()` method creates a cursor object that can execute queries on the database. The `execute()` method executes the query passed as an argument and returns the result set [^10^] ¹¹.\n",
    "\n",
    "Q7. The order of execution of SQL clauses in an SQL query is as follows:\n",
    "\n",
    "1. SELECT\n",
    "2. FROM\n",
    "3. WHERE\n",
    "4. GROUP BY\n",
    "5. HAVING\n",
    "6. ORDER BY\n"
   ]
  }
 ],
 "metadata": {
  "language_info": {
   "name": "python"
  },
  "orig_nbformat": 4
 },
 "nbformat": 4,
 "nbformat_minor": 2
}
