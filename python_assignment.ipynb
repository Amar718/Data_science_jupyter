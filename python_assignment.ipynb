{
 "cells": [
  {
   "cell_type": "code",
   "execution_count": null,
   "metadata": {},
   "outputs": [],
   "source": [
    "\n",
    "Q1. Here's a Python program that sorts the given list of tuples based on integer value using a lambda function:\n",
    "```python\n",
    "lst = [('Sachin Tendulkar', 34357), ('Ricky Ponting', 27483), ('Jack Kallis', 25534), ('Virat Kohli', 24936)]\n",
    "lst.sort(key = lambda x: x[1])\n",
    "print(lst)\n",
    "```\n",
    "\n",
    "Q2. Here's a Python program that finds the squares of all the numbers in the given list of integers using lambda and map functions:\n",
    "```python\n",
    "lst = [1, 2, 3, 4, 5, 6, 7, 8, 9, 10]\n",
    "squares = list(map(lambda x: x**2, lst))\n",
    "print(squares)\n",
    "```\n",
    "\n",
    "Q3. Here's a Python program that converts the given list of integers into a tuple of strings using map and lambda functions:\n",
    "```python\n",
    "lst = [1, 2, 3, 4, 5, 6, 7, 8, 9, 10]\n",
    "tuple_of_strings = tuple(map(lambda x: str(x), lst))\n",
    "print(tuple_of_strings)\n",
    "```\n",
    "\n",
    "Q4. Here's a Python program using reduce function to compute the product of a list containing numbers from 1 to 25:\n",
    "```python\n",
    "from functools import reduce\n",
    "lst = [i for i in range(1,26)]\n",
    "product = reduce(lambda x,y: x*y,lst)\n",
    "print(product)\n",
    "```\n",
    "\n",
    "Q5. Here's a Python program to filter the numbers in a given list that are divisible by 2 and 3 using the filter function:\n",
    "```python\n",
    "lst = [2,3,6,9,27,60,90,120,55,46]\n",
    "filtered_lst = list(filter(lambda x: (x%2==0) and (x%3==0), lst))\n",
    "print(filtered_lst)\n",
    "```\n",
    "\n",
    "Q6. Here's a Python program to find palindromes in the given list of strings using lambda and filter function:\n",
    "```python\n",
    "lst = ['python', 'php', 'aba', 'radar', 'level']\n",
    "palindromes = list(filter(lambda x: (x == \"\".join(reversed(x))), lst))\n",
    "print(palindromes)\n",
    "```"
   ]
  }
 ],
 "metadata": {
  "language_info": {
   "name": "python"
  },
  "orig_nbformat": 4
 },
 "nbformat": 4,
 "nbformat_minor": 2
}
